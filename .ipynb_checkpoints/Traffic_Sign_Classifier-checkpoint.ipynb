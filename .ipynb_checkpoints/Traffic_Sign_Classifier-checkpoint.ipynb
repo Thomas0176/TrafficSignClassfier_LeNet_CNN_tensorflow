{
 "cells": [
  {
   "cell_type": "markdown",
   "metadata": {},
   "source": [
    "# Self-Driving Car Engineer Nanodegree\n",
    "\n",
    "## Deep Learning\n",
    "\n",
    "## Project: Build a Traffic Sign Recognition Classifier\n",
    "\n",
    "In this notebook, a template is provided for you to implement your functionality in stages which is required to successfully complete this project. If additional code is required that cannot be included in the notebook, be sure that the Python code is successfully imported and included in your submission, if necessary. Sections that begin with **'Implementation'** in the header indicate where you should begin your implementation for your project. Note that some sections of implementation are optional, and will be marked with **'Optional'** in the header.\n",
    "\n",
    "In addition to implementing code, there will be questions that you must answer which relate to the project and your implementation. Each section where you will answer a question is preceded by a **'Question'** header. Carefully read each question and provide thorough answers in the following text boxes that begin with **'Answer:'**. Your project submission will be evaluated based on your answers to each of the questions and the implementation you provide.\n",
    "\n",
    ">**Note:** Code and Markdown cells can be executed using the **Shift + Enter** keyboard shortcut. In addition, Markdown cells can be edited by typically double-clicking the cell to enter edit mode."
   ]
  },
  {
   "cell_type": "markdown",
   "metadata": {},
   "source": [
    "---\n",
    "## Step 0: Load The Data"
   ]
  },
  {
   "cell_type": "code",
   "execution_count": 106,
   "metadata": {
    "collapsed": true
   },
   "outputs": [],
   "source": [
    "#show statistics on a y data set\n",
    "import matplotlib.pyplot as plt\n",
    "\n",
    "def showStatsOfSet(y_train, title):\n",
    "    nrPerBin = np.bincount(y_train)\n",
    "    plt.hist(y_train, bins = np.amax(y_train)+1 )  # plt.hist passes it's arguments to np.histogram\n",
    "    plt.title(title)\n",
    "    plt.show()\n",
    "    print(\"abs. number of training data in each label: \", nrPerBin)\n",
    "    print('sum: ', np.sum(nrPerBin))"
   ]
  },
  {
   "cell_type": "code",
   "execution_count": 107,
   "metadata": {
    "collapsed": false
   },
   "outputs": [
    {
     "data": {
      "image/png": "[encoded data removed]",
      "text/plain": [
       "<matplotlib.figure.Figure at 0x7fade2555d30>"
      ]
     },
     "metadata": {},
     "output_type": "display_data"
    },
    {
     "name": "stdout",
     "output_type": "stream",
     "text": [
      "abs. number of training data in each label:  [ 166 1775 1809 1136 1601 1484  318 1162 1086 1172 1604 1040 1672 1722  640\n",
      "  513  334  872  951  177  286  275  329  409  205 1188  477  186  419  203\n",
      "  356  616  196  557  353  976  321  180 1697  237  294  187  186]\n",
      "sum:  31367\n"
     ]
    }
   ],
   "source": [
    "# Load pickled data\n",
    "import pickle\n",
    "import numpy as np\n",
    "import cv2\n",
    "from sklearn.utils import shuffle\n",
    "from sklearn.model_selection import train_test_split\n",
    "import matplotlib.pyplot as plt\n",
    "import matplotlib.image as mpimg\n",
    "import PIL\n",
    "\n",
    "\n",
    "# TODO: Fill this in based on where you saved the training and testing data\n",
    "\n",
    "training_file = \"train.p\"\n",
    "testing_file = \"test.p\"\n",
    "training_file_extend = \"train_extended.p\" ##additional data can get created further down in the notebook.\n",
    "\n",
    "\n",
    "with open(training_file, mode='rb') as f:\n",
    "    train = pickle.load(f)\n",
    "with open(testing_file, mode='rb') as f:\n",
    "    test = pickle.load(f)\n",
    "    \n",
    "X_train, y_train = train['features'], train['labels']\n",
    "X_test, y_test = test['features'], test['labels']\n",
    "\n",
    "X_train, y_train = shuffle(X_train, y_train)\n",
    "X_test, y_test = shuffle(X_test, y_test)\n",
    "\n",
    "\n",
    "\n",
    "## Split train into train and a new validation set\n",
    "X_train, X_validation, y_train, y_validation = train_test_split(X_train, y_train, test_size=0.2, random_state=0)\n",
    "\n",
    "\n",
    "showStatsOfSet(y_train, \"y_train histogram\")\n",
    "\n",
    "use_extended_data = False\n",
    "if (use_extended_data):\n",
    "    with open(training_file_extend, mode='rb') as f:\n",
    "        train_extend = pickle.load(f)\n",
    "\n",
    "    X_train, y_train = train_extend['features'], train_extend['labels']\n",
    "    X_train, y_train = shuffle(X_train, y_train)\n",
    "    showStatsOfSet(y_train, \"y_train histogram after adding extended data\")\n",
    "\n",
    "    \n",
    "#normalizing X\n",
    "X_train = X_train.astype('float32')\n",
    "X_validation = X_validation.astype('float32')\n",
    "X_test = X_test.astype('float32')\n",
    "\n",
    "X_train = X_train / 255 - 0.5\n",
    "X_validation = X_validation / 255 - 0.5\n",
    "X_test = X_test / 255 - 0.5\n"
   ]
  },
  {
   "cell_type": "code",
   "execution_count": null,
   "metadata": {
    "collapsed": false
   },
   "outputs": [],
   "source": [
    "\n"
   ]
  },
  {
   "cell_type": "markdown",
   "metadata": {},
   "source": [
    "---\n",
    "\n",
    "## Step 1: Dataset Summary & Exploration\n",
    "\n",
    "The pickled data is a dictionary with 4 key/value pairs:\n",
    "\n",
    "- `'features'` is a 4D array containing raw pixel data of the traffic sign images, (num examples, width, height, channels).\n",
    "- `'labels'` is a 2D array containing the label/class id of the traffic sign. The file `signnames.csv` contains id -> name mappings for each id.\n",
    "- `'sizes'` is a list containing tuples, (width, height) representing the the original width and height the image.\n",
    "- `'coords'` is a list containing tuples, (x1, y1, x2, y2) representing coordinates of a bounding box around the sign in the image. **THESE COORDINATES ASSUME THE ORIGINAL IMAGE. THE PICKLED DATA CONTAINS RESIZED VERSIONS (32 by 32) OF THESE IMAGES**\n",
    "\n",
    "Complete the basic data summary below."
   ]
  },
  {
   "cell_type": "code",
   "execution_count": null,
   "metadata": {
    "collapsed": true
   },
   "outputs": [],
   "source": []
  },
  {
   "cell_type": "code",
   "execution_count": 108,
   "metadata": {
    "collapsed": false
   },
   "outputs": [
    {
     "name": "stdout",
     "output_type": "stream",
     "text": [
      "Number of training examples = 31367\n",
      "Number of testing examples = 12630\n",
      "Number of validation examples = 7842\n",
      "Image data shape = (32, 32, 3)\n",
      "Number of classes = 43\n"
     ]
    }
   ],
   "source": [
    "### Replace each question mark with the appropriate value.\n",
    "\n",
    "# TODO: Number of training examples\n",
    "n_train = X_train.shape[0]\n",
    "\n",
    "# TODO: Number of testing examples.\n",
    "n_test = X_test.shape[0]\n",
    "\n",
    "# TODO: Number of testing examples.\n",
    "n_validation = X_validation.shape[0]\n",
    "\n",
    "# TODO: What's the shape of an traffic sign image?\n",
    "image_shape = X_train[0].shape\n",
    "\n",
    "# TODO: How many unique classes/labels there are in the dataset.\n",
    "n_classes = np.max(y_train)+1\n",
    "\n",
    "print(\"Number of training examples =\", n_train)\n",
    "print(\"Number of testing examples =\", n_test)\n",
    "print(\"Number of validation examples =\", n_validation)\n",
    "print(\"Image data shape =\", image_shape)\n",
    "print(\"Number of classes =\", n_classes)\n",
    "\n",
    "\n",
    "\n",
    "\n"
   ]
  },
  {
   "cell_type": "markdown",
   "metadata": {},
   "source": [
    "Visualize the German Traffic Signs Dataset using the pickled file(s). This is open ended, suggestions include: plotting traffic sign images, plotting the count of each sign, etc.\n",
    "\n",
    "The [Matplotlib](http://matplotlib.org/) [examples](http://matplotlib.org/examples/index.html) and [gallery](http://matplotlib.org/gallery.html) pages are a great resource for doing visualizations in Python.\n",
    "\n",
    "**NOTE:** It's recommended you start with something simple first. If you wish to do more, come back to it after you've completed the rest of the sections."
   ]
  },
  {
   "cell_type": "code",
   "execution_count": 109,
   "metadata": {
    "collapsed": false
   },
   "outputs": [],
   "source": [
    "import random\n",
    "\n",
    "def convertToGrayscale(data):    \n",
    "    for index in range(0,data.shape[0]):\n",
    "        for channel in range(0,2):\n",
    "            data[index,:,:,channel]= cv2.cvtColor(data[index], cv2.COLOR_BGR2GRAY)\n",
    "    return data\n",
    "\n",
    "\n",
    "def convertToYUV(data):    \n",
    "    for index in range(0,data.shape[0]):\n",
    "        data[index]= cv2.cvtColor(data[index], cv2.COLOR_BGR2YUV)\n",
    "    return data\n",
    "\n",
    "\n",
    "def transform_image(img,ang_range,shear_range,trans_range):\n",
    "    '''\n",
    "    This function transforms images to generate new images.\n",
    "    The function takes in following arguments,\n",
    "    1- Image\n",
    "    2- ang_range: Range of angles for rotation\n",
    "    3- shear_range: Range of values to apply affine transform to (https://code.tutsplus.com/tutorials/understanding-affine-transformations-with-matrix-mathematics--active-10884)\n",
    "    4- trans_range: Range of values to apply translations over. \n",
    "    \n",
    "    A Random uniform distribution is used to generate different parameters for transformation\n",
    "    \n",
    "    '''\n",
    "    # Rotation\n",
    "\n",
    "    ang_rot = np.random.uniform(ang_range)-ang_range/2\n",
    "    rows,cols,ch = img.shape    \n",
    "    Rot_M = cv2.getRotationMatrix2D((cols/2,rows/2),ang_rot,1)\n",
    "\n",
    "    # Translation\n",
    "    tr_x = trans_range*np.random.uniform()-trans_range/2\n",
    "    tr_y = trans_range*np.random.uniform()-trans_range/2\n",
    "    Trans_M = np.float32([[1,0,tr_x],[0,1,tr_y]])\n",
    "\n",
    "    # Shear\n",
    "    pts1 = np.float32([[5,5],[20,5],[5,20]])\n",
    "\n",
    "    pt1 = 5+shear_range*np.random.uniform()-shear_range/2\n",
    "    pt2 = 20+shear_range*np.random.uniform()-shear_range/2\n",
    "\n",
    "    pts2 = np.float32([[pt1,5],[pt2,pt1],[5,pt2]])\n",
    "\n",
    "    shear_M = cv2.getAffineTransform(pts1,pts2)\n",
    "        \n",
    "    img = cv2.warpAffine(img,Rot_M,(cols,rows))\n",
    "    img = cv2.warpAffine(img,Trans_M,(cols,rows))\n",
    "    img = cv2.warpAffine(img,shear_M,(cols,rows))\n",
    "    \n",
    "    return img  \n",
    "\n",
    "\n",
    "def addNewData(X_train, y_train, binSize):\n",
    "    '''takes in x training data and adds generated data to it \n",
    "    until each bin has a certain size; it calls 'transform_image' method\n",
    "    e.g. binSize = 1000 means that we will add images until each bin has at least a size of 1000\n",
    "    '''\n",
    "    \n",
    "    # generates how many samples we still need per bin; Example data_per_bin[0]=4200 means we still have to generate 4200 data samples for bin 0\n",
    "    data_per_bin = np.full(len(np.bincount(y_train)), binSize, dtype=int) - np.bincount(y_train)\n",
    "    gs1 = gridspec.GridSpec(10, 10)\n",
    "    gs1.update(wspace=0.01, hspace=0.02) # set the spacing between axes. \n",
    "    plt.figure(figsize=(12,12))\n",
    "    \n",
    "    # iterates over each bin\n",
    "    for index in range(0, len(data_per_bin)):\n",
    "        \n",
    "        array_of_index = np.where(y_train==index)[0]\n",
    "        print(\"Generating additional Data for following label: \", index) \n",
    "        print(\"Nr. of additional images per label that are being created:  \", data_per_bin[index]) \n",
    "\n",
    "\n",
    "        #adds data samples until bin size of respective bin has reached 'binSize'\n",
    "        while data_per_bin[index] > 0:\n",
    "            new_generated_pic_index = random.choice(array_of_index)\n",
    "            img = transform_image(X_train[new_generated_pic_index],20,10,5)\n",
    "            X_test_new_img = np.empty(shape=[1, 32,32,3])\n",
    "            X_test_new_img = X_test_new_img.astype('uint8')\n",
    "            X_test_new_img[0] = img\n",
    "        \n",
    "            X_train = np.vstack((X_train, X_test_new_img))\n",
    "            y_train = np.append(y_train,index)\n",
    "            data_per_bin[index] = data_per_bin[index]-1\n",
    "            print(\"Image created for label: \", index) \n",
    "            print(\"Nr. of additional images remaining:  \", data_per_bin[index]) \n",
    "            \n",
    "    plt.show()   \n",
    "    return X_train, y_train"
   ]
  },
  {
   "cell_type": "code",
   "execution_count": 110,
   "metadata": {
    "collapsed": false
   },
   "outputs": [
    {
     "data": {
      "image/png": "[encoded data removed]",
      "text/plain": [
       "<matplotlib.figure.Figure at 0x7fadd8d2bfd0>"
      ]
     },
     "metadata": {},
     "output_type": "display_data"
    },
    {
     "name": "stdout",
     "output_type": "stream",
     "text": [
      "abs. number of training data in each label:  [ 166 1775 1809 1136 1601 1484  318 1162 1086 1172 1604 1040 1672 1722  640\n",
      "  513  334  872  951  177  286  275  329  409  205 1188  477  186  419  203\n",
      "  356  616  196  557  353  976  321  180 1697  237  294  187  186]\n",
      "sum:  31367\n"
     ]
    }
   ],
   "source": [
    "### Data exploration visualization goes here.\n",
    "### Feel free to use as many code cells as needed.\n",
    "\n",
    "\n",
    "# Visualizations will be shown in the notebook.\n",
    "%matplotlib inline\n",
    "import random\n",
    "%matplotlib inline\n",
    "import matplotlib.gridspec as gridspec\n",
    "\n",
    "useGrayscale = False\n",
    "if (useGrayscale):\n",
    "    X_train = convertToGrayscale(X_train)\n",
    "    X_validation = convertToGrayscale(X_validation)\n",
    "    X_test = convertToGrayscale(X_test)\n",
    "\n",
    "useYUV = False\n",
    "if (useYUV):\n",
    "    X_train = convertToYUV(X_train)\n",
    "    X_validation = convertToYUV(X_validation)\n",
    "    X_test = convertToYUV(X_test)\n",
    "\n",
    "\n",
    "showStatsOfSet(y_train, \"before\")\n",
    "\n",
    "\n",
    "addNewDataBoolean = False\n",
    "\n",
    "# adds new data to X_train and y_train and saves the new+old data to a file\n",
    "if (addNewDataBoolean):\n",
    "    X_train, y_train = addNewData(X_train, y_train, 1000)\n",
    "    showStatsOfSet(y_train, \"after\")\n",
    "    pickle_file = { \"features\": X_train, \"labels\": y_train }\n",
    "\n",
    "    with open(\"train_extended.p\", 'wb') as handle:\n",
    "        pickle.dump(pickle_file, handle, protocol=pickle.HIGHEST_PROTOCOL)\n",
    "    print(X_train.shape)\n",
    "\n",
    "\n",
    "\n",
    "\n"
   ]
  },
  {
   "cell_type": "code",
   "execution_count": 54,
   "metadata": {
    "collapsed": false
   },
   "outputs": [],
   "source": []
  },
  {
   "cell_type": "markdown",
   "metadata": {},
   "source": [
    "----\n",
    "\n",
    "## Step 2: Design and Test a Model Architecture\n",
    "\n",
    "Design and implement a deep learning model that learns to recognize traffic signs. Train and test your model on the [German Traffic Sign Dataset](http://benchmark.ini.rub.de/?section=gtsrb&subsection=dataset).\n",
    "\n",
    "There are various aspects to consider when thinking about this problem:\n",
    "\n",
    "- Neural network architecture\n",
    "- Play around preprocessing techniques (normalization, rgb to grayscale, etc)\n",
    "- Number of examples per label (some have more than others).\n",
    "- Generate fake data.\n",
    "\n",
    "Here is an example of a [published baseline model on this problem](http://yann.lecun.com/exdb/publis/pdf/sermanet-ijcnn-11.pdf). It's not required to be familiar with the approach used in the paper but, it's good practice to try to read papers like these.\n",
    "\n",
    "**NOTE:** The LeNet-5 implementation shown in the [classroom](https://classroom.udacity.com/nanodegrees/nd013/parts/fbf77062-5703-404e-b60c-95b78b2f3f9e/modules/6df7ae49-c61c-4bb2-a23e-6527e69209ec/lessons/601ae704-1035-4287-8b11-e2c2716217ad/concepts/d4aca031-508f-4e0b-b493-e7b706120f81) at the end of the CNN lesson is a solid starting point. You'll have to change the number of classes and possibly the preprocessing, but aside from that it's plug and play!"
   ]
  },
  {
   "cell_type": "markdown",
   "metadata": {},
   "source": [
    "### Implementation\n",
    "\n",
    "Use the code cell (or multiple code cells, if necessary) to implement the first step of your project. Once you have completed your implementation and are satisfied with the results, be sure to thoroughly answer the questions that follow."
   ]
  },
  {
   "cell_type": "code",
   "execution_count": 121,
   "metadata": {
    "collapsed": false
   },
   "outputs": [],
   "source": [
    "### Preprocess the data here.\n",
    "### Feel free to use as many code cells as needed.\n",
    "\n",
    "###already pre-processed in Step 0\n",
    "\n",
    "\n",
    "##SETUP TENSORFLOW\n",
    "import tensorflow as tf\n",
    "\n",
    "EPOCHS = 100\n",
    "BATCH_SIZE = 128"
   ]
  },
  {
   "cell_type": "code",
   "execution_count": 122,
   "metadata": {
    "collapsed": true
   },
   "outputs": [],
   "source": [
    "from tensorflow.contrib.layers import flatten\n",
    "\n",
    "def LeNet(x):    \n",
    "    # Hyperparameters\n",
    "    mu = 0\n",
    "    sigma = 0.1\n",
    "    \n",
    "    # SOLUTION: Layer 1: Convolutional. Input = 32x32x3. Output = 28x28x6.\n",
    "    conv1_W = tf.Variable(tf.truncated_normal(shape=(5, 5, 3, 6), mean = mu, stddev = sigma))\n",
    "    conv1_b = tf.Variable(tf.zeros(6))\n",
    "    conv1   = tf.nn.conv2d(x, conv1_W, strides=[1, 1, 1, 1], padding='VALID') + conv1_b\n",
    "\n",
    "    # SOLUTION: Activation.\n",
    "    conv1 = tf.nn.relu(conv1)\n",
    "    \n",
    "    #Add Dropout Layer\n",
    "    conv1 = tf.nn.dropout(conv1, keep_prob)\n",
    "\n",
    "    \n",
    "    # SOLUTION: Pooling. Input = 28x28x6. Output = 14x14x6.\n",
    "    conv1 = tf.nn.max_pool(conv1, ksize=[1, 2, 2, 1], strides=[1, 2, 2, 1], padding='VALID')\n",
    "\n",
    "    # SOLUTION: Layer 2: Convolutional. Output = 10x10x16.\n",
    "    conv2_W = tf.Variable(tf.truncated_normal(shape=(5, 5, 6, 16), mean = mu, stddev = sigma))\n",
    "    conv2_b = tf.Variable(tf.zeros(16))\n",
    "    conv2   = tf.nn.conv2d(conv1, conv2_W, strides=[1, 1, 1, 1], padding='VALID') + conv2_b\n",
    "    \n",
    "    # SOLUTION: Activation.\n",
    "    conv2 = tf.nn.relu(conv2)\n",
    "\n",
    "    # SOLUTION: Pooling. Input = 10x10x16. Output = 5x5x16.\n",
    "    conv2 = tf.nn.max_pool(conv2, ksize=[1, 2, 2, 1], strides=[1, 2, 2, 1], padding='VALID')\n",
    "\n",
    "    # SOLUTION: Flatten. Input = 5x5x16. Output = 400.\n",
    "    fc0   = flatten(conv2)\n",
    "    \n",
    "    # SOLUTION: Layer 3: Fully Connected. Input = 400. Output = 120.\n",
    "    fc1_W = tf.Variable(tf.truncated_normal(shape=(400, 120), mean = mu, stddev = sigma))\n",
    "    fc1_b = tf.Variable(tf.zeros(120))\n",
    "    fc1   = tf.matmul(fc0, fc1_W) + fc1_b\n",
    "    \n",
    "    # SOLUTION: Activation.\n",
    "    fc1    = tf.nn.relu(fc1)\n",
    "\n",
    "    # SOLUTION: Layer 4: Fully Connected. Input = 120. Output = 84.\n",
    "    fc2_W  = tf.Variable(tf.truncated_normal(shape=(120, 84), mean = mu, stddev = sigma))\n",
    "    fc2_b  = tf.Variable(tf.zeros(84))\n",
    "    fc2    = tf.matmul(fc1, fc2_W) + fc2_b\n",
    "    \n",
    "    # SOLUTION: Activation.\n",
    "    fc2    = tf.nn.relu(fc2)\n",
    "\n",
    "    # SOLUTION: Layer 5: Fully Connected. Input = 84. Output = 10.\n",
    "    fc3_W  = tf.Variable(tf.truncated_normal(shape=(84, 43), mean = mu, stddev = sigma))\n",
    "    fc3_b  = tf.Variable(tf.zeros(43))\n",
    "    logits = tf.matmul(fc2, fc3_W) + fc3_b\n",
    "    \n",
    "    return logits"
   ]
  },
  {
   "cell_type": "code",
   "execution_count": 123,
   "metadata": {
    "collapsed": true
   },
   "outputs": [],
   "source": [
    "x = tf.placeholder(tf.float32, (None, 32, 32, 3))\n",
    "y = tf.placeholder(tf.int32, (None))\n",
    "one_hot_y = tf.one_hot(y, 43)\n",
    "keep_prob = tf.placeholder(tf.float32)"
   ]
  },
  {
   "cell_type": "code",
   "execution_count": 124,
   "metadata": {
    "collapsed": false
   },
   "outputs": [],
   "source": [
    "#TRAINING\n",
    "rate = 0.001\n",
    "\n",
    "logits = LeNet(x)\n",
    "cross_entropy = tf.nn.softmax_cross_entropy_with_logits(logits, one_hot_y)\n",
    "loss_operation = tf.reduce_mean(cross_entropy)\n",
    "optimizer = tf.train.AdamOptimizer(learning_rate = rate)\n",
    "training_operation = optimizer.minimize(loss_operation)"
   ]
  },
  {
   "cell_type": "code",
   "execution_count": 125,
   "metadata": {
    "collapsed": true
   },
   "outputs": [],
   "source": [
    "#MODEL EVALUATION\n",
    "y_pred = tf.nn.softmax(logits)\n",
    "topFive = tf.nn.top_k(y_pred, k=3, sorted=True, name=None)\n",
    "\n",
    "correct_prediction = tf.equal(tf.argmax(logits, 1), tf.argmax(one_hot_y, 1))\n",
    "accuracy_operation = tf.reduce_mean(tf.cast(correct_prediction, tf.float32))\n",
    "saver = tf.train.Saver()\n",
    "\n",
    "def evaluate(X_data, y_data):\n",
    "    num_examples = len(X_data)\n",
    "    total_accuracy = 0\n",
    "    sess = tf.get_default_session()\n",
    "    for offset in range(0, num_examples, BATCH_SIZE):\n",
    "        batch_x, batch_y = X_data[offset:offset+BATCH_SIZE], y_data[offset:offset+BATCH_SIZE]\n",
    "        accuracy = sess.run(accuracy_operation, feed_dict={x: batch_x, y: batch_y, keep_prob: 1})\n",
    "        total_accuracy += (accuracy * len(batch_x))\n",
    "    return total_accuracy / num_examples"
   ]
  },
  {
   "cell_type": "code",
   "execution_count": 126,
   "metadata": {
    "collapsed": false
   },
   "outputs": [
    {
     "name": "stdout",
     "output_type": "stream",
     "text": [
      "Training...\n",
      "\n",
      "EPOCH 1 ...\n",
      "Validation Accuracy = 0.734\n",
      "\n",
      "EPOCH 2 ...\n",
      "Validation Accuracy = 0.875\n",
      "\n",
      "EPOCH 3 ...\n",
      "Validation Accuracy = 0.925\n",
      "\n",
      "EPOCH 4 ...\n",
      "Validation Accuracy = 0.937\n",
      "\n",
      "EPOCH 5 ...\n",
      "Validation Accuracy = 0.946\n",
      "\n",
      "EPOCH 6 ...\n",
      "Validation Accuracy = 0.965\n",
      "\n",
      "EPOCH 7 ...\n",
      "Validation Accuracy = 0.966\n",
      "\n",
      "EPOCH 8 ...\n",
      "Validation Accuracy = 0.972\n",
      "\n",
      "EPOCH 9 ...\n",
      "Validation Accuracy = 0.973\n",
      "\n",
      "EPOCH 10 ...\n",
      "Validation Accuracy = 0.979\n",
      "\n",
      "EPOCH 11 ...\n",
      "Validation Accuracy = 0.975\n",
      "\n",
      "EPOCH 12 ...\n",
      "Validation Accuracy = 0.980\n",
      "\n",
      "EPOCH 13 ...\n",
      "Validation Accuracy = 0.972\n",
      "\n",
      "EPOCH 14 ...\n",
      "Validation Accuracy = 0.973\n",
      "\n",
      "EPOCH 15 ...\n",
      "Validation Accuracy = 0.985\n",
      "\n",
      "EPOCH 16 ...\n",
      "Validation Accuracy = 0.982\n",
      "\n",
      "EPOCH 17 ...\n",
      "Validation Accuracy = 0.978\n",
      "\n",
      "EPOCH 18 ...\n",
      "Validation Accuracy = 0.980\n",
      "\n",
      "EPOCH 19 ...\n",
      "Validation Accuracy = 0.985\n",
      "\n",
      "EPOCH 20 ...\n",
      "Validation Accuracy = 0.980\n",
      "\n",
      "EPOCH 21 ...\n",
      "Validation Accuracy = 0.984\n",
      "\n",
      "EPOCH 22 ...\n",
      "Validation Accuracy = 0.981\n",
      "\n",
      "EPOCH 23 ...\n",
      "Validation Accuracy = 0.976\n",
      "\n",
      "EPOCH 24 ...\n",
      "Validation Accuracy = 0.985\n",
      "\n",
      "EPOCH 25 ...\n",
      "Validation Accuracy = 0.987\n",
      "\n",
      "EPOCH 26 ...\n",
      "Validation Accuracy = 0.989\n",
      "\n",
      "EPOCH 27 ...\n",
      "Validation Accuracy = 0.985\n",
      "\n",
      "EPOCH 28 ...\n",
      "Validation Accuracy = 0.984\n",
      "\n",
      "EPOCH 29 ...\n",
      "Validation Accuracy = 0.988\n",
      "\n",
      "EPOCH 30 ...\n",
      "Validation Accuracy = 0.985\n",
      "\n",
      "EPOCH 31 ...\n",
      "Validation Accuracy = 0.984\n",
      "\n",
      "EPOCH 32 ...\n",
      "Validation Accuracy = 0.985\n",
      "\n",
      "EPOCH 33 ...\n",
      "Validation Accuracy = 0.979\n",
      "\n",
      "EPOCH 34 ...\n",
      "Validation Accuracy = 0.988\n",
      "\n",
      "EPOCH 35 ...\n",
      "Validation Accuracy = 0.988\n",
      "\n",
      "EPOCH 36 ...\n",
      "Validation Accuracy = 0.989\n",
      "\n",
      "EPOCH 37 ...\n",
      "Validation Accuracy = 0.989\n",
      "\n",
      "EPOCH 38 ...\n",
      "Validation Accuracy = 0.985\n",
      "\n",
      "EPOCH 39 ...\n",
      "Validation Accuracy = 0.987\n",
      "\n",
      "EPOCH 40 ...\n",
      "Validation Accuracy = 0.984\n",
      "\n",
      "EPOCH 41 ...\n",
      "Validation Accuracy = 0.987\n",
      "\n",
      "EPOCH 42 ...\n",
      "Validation Accuracy = 0.991\n",
      "\n",
      "EPOCH 43 ...\n",
      "Validation Accuracy = 0.988\n",
      "\n",
      "EPOCH 44 ...\n",
      "Validation Accuracy = 0.987\n",
      "\n",
      "EPOCH 45 ...\n",
      "Validation Accuracy = 0.992\n",
      "\n",
      "EPOCH 46 ...\n",
      "Validation Accuracy = 0.982\n",
      "\n",
      "EPOCH 47 ...\n",
      "Validation Accuracy = 0.980\n",
      "\n",
      "EPOCH 48 ...\n",
      "Validation Accuracy = 0.991\n",
      "\n",
      "EPOCH 49 ...\n",
      "Validation Accuracy = 0.989\n",
      "\n",
      "EPOCH 50 ...\n",
      "Validation Accuracy = 0.985\n",
      "\n",
      "EPOCH 51 ...\n",
      "Validation Accuracy = 0.989\n",
      "\n",
      "EPOCH 52 ...\n",
      "Validation Accuracy = 0.990\n",
      "\n",
      "EPOCH 53 ...\n",
      "Validation Accuracy = 0.986\n",
      "\n",
      "EPOCH 54 ...\n",
      "Validation Accuracy = 0.991\n",
      "\n",
      "EPOCH 55 ...\n",
      "Validation Accuracy = 0.990\n",
      "\n",
      "EPOCH 56 ...\n",
      "Validation Accuracy = 0.989\n",
      "\n",
      "EPOCH 57 ...\n",
      "Validation Accuracy = 0.990\n",
      "\n",
      "EPOCH 58 ...\n",
      "Validation Accuracy = 0.991\n",
      "\n",
      "EPOCH 59 ...\n",
      "Validation Accuracy = 0.991\n",
      "\n",
      "EPOCH 60 ...\n",
      "Validation Accuracy = 0.989\n",
      "\n",
      "EPOCH 61 ...\n",
      "Validation Accuracy = 0.991\n",
      "\n",
      "EPOCH 62 ...\n",
      "Validation Accuracy = 0.992\n",
      "\n",
      "EPOCH 63 ...\n",
      "Validation Accuracy = 0.989\n",
      "\n",
      "EPOCH 64 ...\n",
      "Validation Accuracy = 0.990\n",
      "\n",
      "EPOCH 65 ...\n",
      "Validation Accuracy = 0.988\n",
      "\n",
      "EPOCH 66 ...\n",
      "Validation Accuracy = 0.989\n",
      "\n",
      "EPOCH 67 ...\n",
      "Validation Accuracy = 0.990\n",
      "\n",
      "EPOCH 68 ...\n",
      "Validation Accuracy = 0.988\n",
      "\n",
      "EPOCH 69 ...\n",
      "Validation Accuracy = 0.990\n",
      "\n",
      "EPOCH 70 ...\n",
      "Validation Accuracy = 0.989\n",
      "\n",
      "EPOCH 71 ...\n",
      "Validation Accuracy = 0.988\n",
      "\n",
      "EPOCH 72 ...\n",
      "Validation Accuracy = 0.989\n",
      "\n",
      "EPOCH 73 ...\n",
      "Validation Accuracy = 0.991\n",
      "\n",
      "EPOCH 74 ...\n",
      "Validation Accuracy = 0.991\n",
      "\n",
      "EPOCH 75 ...\n",
      "Validation Accuracy = 0.988\n",
      "\n",
      "EPOCH 76 ...\n",
      "Validation Accuracy = 0.992\n",
      "\n",
      "EPOCH 77 ...\n",
      "Validation Accuracy = 0.990\n",
      "\n",
      "EPOCH 78 ...\n",
      "Validation Accuracy = 0.990\n",
      "\n",
      "EPOCH 79 ...\n",
      "Validation Accuracy = 0.989\n",
      "\n",
      "EPOCH 80 ...\n",
      "Validation Accuracy = 0.991\n",
      "\n",
      "EPOCH 81 ...\n",
      "Validation Accuracy = 0.991\n",
      "\n",
      "EPOCH 82 ...\n",
      "Validation Accuracy = 0.990\n",
      "\n",
      "EPOCH 83 ...\n",
      "Validation Accuracy = 0.991\n",
      "\n",
      "EPOCH 84 ...\n",
      "Validation Accuracy = 0.989\n",
      "\n",
      "EPOCH 85 ...\n",
      "Validation Accuracy = 0.990\n",
      "\n",
      "EPOCH 86 ...\n",
      "Validation Accuracy = 0.991\n",
      "\n",
      "EPOCH 87 ...\n",
      "Validation Accuracy = 0.989\n",
      "\n",
      "EPOCH 88 ...\n",
      "Validation Accuracy = 0.991\n",
      "\n",
      "EPOCH 89 ...\n",
      "Validation Accuracy = 0.985\n",
      "\n",
      "EPOCH 90 ...\n",
      "Validation Accuracy = 0.990\n",
      "\n",
      "EPOCH 91 ...\n",
      "Validation Accuracy = 0.990\n",
      "\n",
      "EPOCH 92 ...\n",
      "Validation Accuracy = 0.989\n",
      "\n",
      "EPOCH 93 ...\n",
      "Validation Accuracy = 0.991\n",
      "\n",
      "EPOCH 94 ...\n",
      "Validation Accuracy = 0.991\n",
      "\n",
      "EPOCH 95 ...\n",
      "Validation Accuracy = 0.989\n",
      "\n",
      "EPOCH 96 ...\n",
      "Validation Accuracy = 0.990\n",
      "\n",
      "EPOCH 97 ...\n",
      "Validation Accuracy = 0.990\n",
      "\n",
      "EPOCH 98 ...\n",
      "Validation Accuracy = 0.990\n",
      "\n",
      "EPOCH 99 ...\n",
      "Validation Accuracy = 0.991\n",
      "\n",
      "EPOCH 100 ...\n",
      "Validation Accuracy = 0.991\n",
      "\n",
      "Model saved\n"
     ]
    }
   ],
   "source": [
    "with tf.Session() as sess:\n",
    "    sess.run(tf.global_variables_initializer())\n",
    "    num_examples = len(X_train)\n",
    "    \n",
    "    print(\"Training...\")\n",
    "    print()\n",
    "    for i in range(EPOCHS):\n",
    "        X_train, y_train = shuffle(X_train, y_train)\n",
    "        for offset in range(0, num_examples, BATCH_SIZE):\n",
    "            end = offset + BATCH_SIZE\n",
    "            batch_x, batch_y = X_train[offset:end], y_train[offset:end]\n",
    "            sess.run(training_operation, feed_dict={x: batch_x, y: batch_y, keep_prob: 0.5})\n",
    "            \n",
    "        validation_accuracy = evaluate(X_validation, y_validation)\n",
    "#        own_test_accuracy = evaluate(X_test_own, y_test_own)\n",
    "\n",
    "        print(\"EPOCH {} ...\".format(i+1))\n",
    "        print(\"Validation Accuracy = {:.3f}\".format(validation_accuracy))\n",
    "        #print(\"Test_Own Accuracy = {:.3f}\".format(own_test_accuracy))\n",
    "\n",
    "        print()\n",
    "        \n",
    "    saver.save(sess, 'lenet_traffic_sign')\n",
    "    print(\"Model saved\")"
   ]
  },
  {
   "cell_type": "code",
   "execution_count": 127,
   "metadata": {
    "collapsed": false
   },
   "outputs": [
    {
     "name": "stdout",
     "output_type": "stream",
     "text": [
      "Test Accuracy = 0.935\n"
     ]
    }
   ],
   "source": [
    "##EVALUATION\n",
    "\n",
    "with tf.Session() as sess:\n",
    "    saver.restore(sess, tf.train.latest_checkpoint('.'))\n",
    "\n",
    "    test_accuracy = evaluate(X_test, y_test)\n",
    "    print(\"Test Accuracy = {:.3f}\".format(test_accuracy))"
   ]
  },
  {
   "cell_type": "markdown",
   "metadata": {},
   "source": [
    "### Question 1 \n",
    "\n",
    "_Describe how you preprocessed the data. Why did you choose that technique?_"
   ]
  },
  {
   "cell_type": "markdown",
   "metadata": {},
   "source": [
    "**Answer:** \n",
    "For Preprocessing, I tried YUV (~84.4% accuracy on test set) as well as grayscale (~81.2% accuracy on test set). However, both approaches had worse results than just using the 'normal' RGB image (~87.2%). So I just used RGB.\n",
    "\n",
    "I then added dropouts because I was concerned about overfitting (my validation set on RGB was 95.5% whereas my test set was only 87.2%). However, Dropout didn't really help much.\n",
    "\n",
    "I then normalized the data which increased the accuracy dramatically (up to 98% on validation set).\n",
    "\n",
    "Increasing Epoch from 20 to 100, yielded a 99% accuracy on validation set and 93.6% accuracy on test set. \n",
    "\n",
    "Subsequently, I created additional training data (so that each label had at least 1000 data points). That decreased accuracy to 99.3% on validation set and 90.07% on test set. To generate that new training data, I used a range of angles for rotation, range of values to apply affine transform and a range of values to apply translations. A random uniform distribution was used to generate different parameters.\n",
    "The reason why I did not generate more than 1000 data samples per bin was because it took a a long time to create  samples already and in the process of generation my jupypter notebook often hang and I had to start over (Note: I did use AWS GPUs). \n",
    "\n",
    "I used Yan Le Cun 'Le Net' architecture with \n",
    "Layer 1: Convolutional. Input = 32x32x3. Output = 28x28x6.\n",
    "Then Relu activation, followed by Dropout layer and then a max pooling layer.\n",
    "\n",
    "Layer 2: Convolutional. Output = 10x10x16.\n",
    "Then Relu activation, followed by max pooling layer with a subsequent flatten layer.\n",
    "\n",
    "Layer 3-5 where fully connected layers, with a relu activation layer in between each. \n",
    "\n",
    "\n",
    "Batch Size was held constant at 128\n",
    "Hyperparameters were also held constant at mu = 0, sigma = 0.1 and learning rate at 0.001.\n",
    "Adam optimizer was used.\n",
    "\n",
    "\n",
    "ADDITIONAL ANSWERS BASED ON FEEDBACK:\n",
    "\n",
    "QUESTION 1\n",
    "Here is a checklist for this question:\n",
    "Please discuss how did you choose the optimzer. (Missed Answer)\n",
    "    - I chose Adams Optimizer because it is a great choice for including momentum into your optimizer. That is not only good for the results, but also to improve time taken by the optimizer. There are multiple other good optimizers, however, e.g. based on this website http://sebastianruder.com/optimizing-gradient-descent/, Adam Optimizer seems like the best solution.\n",
    "\n",
    "Please discuss how did you tell a convolutional layer is well suited for this problem. (Missed Answer)\n",
    "    - Conv Layers are very useful tools in particular for image classification tasks. By adapting a known, good architecture (in this case 'Le Net') gave me additional confidence that my approach would end up with good results.    \n",
    "    \n",
    "Please discuss how did you choose the particular activation (Missed Answer)\n",
    "    - I used Relu activation because that is what Le Net architecture did too.  \n",
    "\n"
   ]
  },
  {
   "cell_type": "code",
   "execution_count": 31,
   "metadata": {
    "collapsed": false
   },
   "outputs": [],
   "source": [
    "### Generate data additional data (OPTIONAL!)\n",
    "### and split the data into training/validation/testing sets here.\n",
    "### Feel free to use as many code cells as needed."
   ]
  },
  {
   "cell_type": "markdown",
   "metadata": {},
   "source": [
    "### Question 2\n",
    "\n",
    "_Describe how you set up the training, validation and testing data for your model. **Optional**: If you generated additional data, how did you generate the data? Why did you generate the data? What are the differences in the new dataset (with generated data) from the original dataset?_"
   ]
  },
  {
   "cell_type": "markdown",
   "metadata": {},
   "source": [
    "**Answer:** See Question 1.\n",
    "\n"
   ]
  },
  {
   "cell_type": "code",
   "execution_count": null,
   "metadata": {
    "collapsed": true
   },
   "outputs": [],
   "source": [
    "### Define your architecture here.\n",
    "### Feel free to use as many code cells as needed."
   ]
  },
  {
   "cell_type": "markdown",
   "metadata": {},
   "source": [
    "### Question 3\n",
    "\n",
    "_What does your final architecture look like? (Type of model, layers, sizes, connectivity, etc.)  For reference on how to build a deep neural network using TensorFlow, see [Deep Neural Network in TensorFlow\n",
    "](https://classroom.udacity.com/nanodegrees/nd013/parts/fbf77062-5703-404e-b60c-95b78b2f3f9e/modules/6df7ae49-c61c-4bb2-a23e-6527e69209ec/lessons/b516a270-8600-4f93-a0a3-20dfeabe5da6/concepts/83a3a2a2-a9bd-4b7b-95b0-eb924ab14432) from the classroom._\n"
   ]
  },
  {
   "cell_type": "markdown",
   "metadata": {},
   "source": [
    "**Answer:** See Question 1"
   ]
  },
  {
   "cell_type": "code",
   "execution_count": null,
   "metadata": {
    "collapsed": true
   },
   "outputs": [],
   "source": [
    "### Train your model here.\n",
    "### Feel free to use as many code cells as needed."
   ]
  },
  {
   "cell_type": "markdown",
   "metadata": {},
   "source": [
    "### Question 4\n",
    "\n",
    "_How did you train your model? (Type of optimizer, batch size, epochs, hyperparameters, etc.)_\n"
   ]
  },
  {
   "cell_type": "markdown",
   "metadata": {},
   "source": [
    "**Answer:** See Question 1"
   ]
  },
  {
   "cell_type": "markdown",
   "metadata": {},
   "source": [
    "### Question 5\n",
    "\n",
    "\n",
    "_What approach did you take in coming up with a solution to this problem? It may have been a process of trial and error, in which case, outline the steps you took to get to the final solution and why you chose those steps. Perhaps your solution involved an already well known implementation or architecture. In this case, discuss why you think this is suitable for the current problem._"
   ]
  },
  {
   "cell_type": "markdown",
   "metadata": {},
   "source": [
    "**Answer:** See Question 1"
   ]
  },
  {
   "cell_type": "markdown",
   "metadata": {},
   "source": [
    "---\n",
    "\n",
    "## Step 3: Test a Model on New Images\n",
    "\n",
    "Take several pictures of traffic signs that you find on the web or around you (at least five), and run them through your classifier on your computer to produce example results. The classifier might not recognize some local signs but it could prove interesting nonetheless.\n",
    "\n",
    "You may find `signnames.csv` useful as it contains mappings from the class id (integer) to the actual sign name."
   ]
  },
  {
   "cell_type": "markdown",
   "metadata": {},
   "source": [
    "### Implementation\n",
    "\n",
    "Use the code cell (or multiple code cells, if necessary) to implement the first step of your project. Once you have completed your implementation and are satisfied with the results, be sure to thoroughly answer the questions that follow."
   ]
  },
  {
   "cell_type": "code",
   "execution_count": 128,
   "metadata": {
    "collapsed": false
   },
   "outputs": [
    {
     "name": "stdout",
     "output_type": "stream",
     "text": [
      "y labels:  [14 12  1 14  1 13]\n"
     ]
    },
    {
     "data": {
      "image/png": "[encoded data removed]",
      "text/plain": [
       "<matplotlib.figure.Figure at 0x7fadd7845588>"
      ]
     },
     "metadata": {},
     "output_type": "display_data"
    },
    {
     "data": {
      "image/png": "[encoded data removed]",
      "text/plain": [
       "<matplotlib.figure.Figure at 0x7fadb82bff60>"
      ]
     },
     "metadata": {},
     "output_type": "display_data"
    },
    {
     "data": {
      "image/png": "[encoded data removed]",
      "text/plain": [
       "<matplotlib.figure.Figure at 0x7fadb82e1978>"
      ]
     },
     "metadata": {},
     "output_type": "display_data"
    },
    {
     "data": {
      "image/png": "[encoded data removed]",
      "text/plain": [
       "<matplotlib.figure.Figure at 0x7fad8054fe48>"
      ]
     },
     "metadata": {},
     "output_type": "display_data"
    },
    {
     "data": {
      "image/png": "[encoded data removed]",
      "text/plain": [
       "<matplotlib.figure.Figure at 0x7fad875ed5f8>"
      ]
     },
     "metadata": {},
     "output_type": "display_data"
    },
    {
     "data": {
      "image/png": "[encoded data removed]",
      "text/plain": [
       "<matplotlib.figure.Figure at 0x7fad80b1eba8>"
      ]
     },
     "metadata": {},
     "output_type": "display_data"
    }
   ],
   "source": [
    "### Load the images and plot them here.\n",
    "### Feel free to use as many code cells as needed.\n",
    "\n",
    "\n",
    "##load your own data\n",
    "\n",
    "\n",
    "from os import walk\n",
    "f = []\n",
    "mypath = 'ownTrafficSignData'\n",
    "for (dirpath, dirnames, filenames) in walk(mypath):\n",
    "    f.extend(filenames)\n",
    "    break\n",
    "\n",
    "X_test_own = np.empty(shape=[len(f), 32,32,3])\n",
    "y_test_own = np.empty(shape=[len(f)])\n",
    "\n",
    "for index, file in enumerate(f):\n",
    "    # Read in the image and print out some stats\n",
    "    #print (\"test_images/\" + file)\n",
    "    image = cv2.cvtColor(mpimg.imread(mypath + \"/\"+ file),cv2.COLOR_BGRA2BGR)\n",
    "    assert image.shape[0] <= image.shape[1],\"the height of each image has to be smaller than its width\"\n",
    "    r = 32.0 / image.shape[0]\n",
    "    dim = (int(image.shape[1] * r),32) \n",
    "    # perform the actual resizing of the image and show it\n",
    "    resized = cv2.resize(image, dim, interpolation = cv2.INTER_AREA)\n",
    "    #crop the image with respect to height\n",
    "    resized_mid_width = int(resized.shape[1]/2)\n",
    "    resized = resized[:,resized_mid_width-16:resized_mid_width+16] # Crop from x, y, w, h -> 100, 200, 300, 400\n",
    "  \n",
    "    plt.figure(figsize=(1,1))\n",
    "    plt.imshow(resized)\n",
    "    \n",
    "    X_test_own[index]=resized\n",
    "    y_test_own[index]=file.split(\"_\")[0]\n",
    "    \n",
    "y_test_own = y_test_own.astype('uint8')\n",
    "X_test_own = X_test_own.astype('float32')\n",
    "\n",
    "print (\"y labels: \", y_test_own)\n",
    "\n"
   ]
  },
  {
   "cell_type": "markdown",
   "metadata": {},
   "source": [
    "### Question 6\n",
    "\n",
    "_Choose five candidate images of traffic signs and provide them in the report. Are there any particular qualities of the image(s) that might make classification difficult? It could be helpful to plot the images in the notebook._\n",
    "\n"
   ]
  },
  {
   "cell_type": "markdown",
   "metadata": {},
   "source": [
    "**Answer:**\n",
    "\n",
    "As the question stated Choose five candidate images of traffic signs and provide them in the report. , it required you to display the candidate images (You did it well) and discuss their potential classification difficulties (Missed answer).\n",
    "    - Image 3: it seems too much zoomed in compared to the training dataset.\n",
    "    - For image 4: Difficulties might be that it was taken from an unnatural angle (someone standing underneath the traffic sign)\n",
    "    - Image 5: the 30 mph sign has quite some reflection"
   ]
  },
  {
   "cell_type": "code",
   "execution_count": 129,
   "metadata": {
    "collapsed": false
   },
   "outputs": [
    {
     "name": "stdout",
     "output_type": "stream",
     "text": [
      "Test Accuracy = 0.667\n"
     ]
    }
   ],
   "source": [
    "### Run the predictions here.\n",
    "### Feel free to use as many code cells as needed.\n",
    "with tf.Session() as sess:\n",
    "    saver.restore(sess, tf.train.latest_checkpoint('.'))\n",
    "\n",
    "    test_accuracy_own = evaluate(X_test_own, y_test_own)\n",
    "    print(\"Test Accuracy = {:.3f}\".format(test_accuracy_own))"
   ]
  },
  {
   "cell_type": "markdown",
   "metadata": {},
   "source": [
    "### Question 7\n",
    "\n",
    "_Is your model able to perform equally well on captured pictures when compared to testing on the dataset? The simplest way to do this check the accuracy of the predictions. For example, if the model predicted 1 out of 5 signs correctly, it's 20% accurate._\n",
    "\n",
    "_**NOTE:** You could check the accuracy manually by using `signnames.csv` (same directory). This file has a mapping from the class id (0-42) to the corresponding sign name. So, you could take the class id the model outputs, lookup the name in `signnames.csv` and see if it matches the sign from the image._\n"
   ]
  },
  {
   "cell_type": "markdown",
   "metadata": {},
   "source": [
    "**Answer:** The model predicted 4 out 6 correctly. So 66.7% test accuracy.\n",
    "\n",
    "However, the model prediction accuracy on the training set was 99% test accuracy on test.\n",
    "The possible reasons would be\n",
    "- VERY SMALL TEST SET of only 6 images. I'd have to gather more data to see if test accuracy might actually go up. \n",
    "- I assume the real traffic sign data was taken with the same camera and similar angles. \n"
   ]
  },
  {
   "cell_type": "code",
   "execution_count": null,
   "metadata": {
    "collapsed": true
   },
   "outputs": [],
   "source": [
    "### Visualize the softmax probabilities here.\n",
    "### Feel free to use as many code cells as needed."
   ]
  },
  {
   "cell_type": "markdown",
   "metadata": {},
   "source": [
    "### Question 8\n",
    "\n",
    "*Use the model's softmax probabilities to visualize the **certainty** of its predictions, [`tf.nn.top_k`](https://www.tensorflow.org/versions/r0.12/api_docs/python/nn.html#top_k) could prove helpful here. Which predictions is the model certain of? Uncertain? If the model was incorrect in its initial prediction, does the correct prediction appear in the top k? (k should be 5 at most)*\n",
    "\n",
    "`tf.nn.top_k` will return the values and indices (class ids) of the top k predictions. So if k=3, for each sign, it'll return the 3 largest probabilities (out of a possible 43) and the correspoding class ids.\n",
    "\n",
    "Take this numpy array as an example:\n",
    "\n",
    "```\n",
    "# (5, 6) array\n",
    "a = np.array([[ 0.24879643,  0.07032244,  0.12641572,  0.34763842,  0.07893497,\n",
    "         0.12789202],\n",
    "       [ 0.28086119,  0.27569815,  0.08594638,  0.0178669 ,  0.18063401,\n",
    "         0.15899337],\n",
    "       [ 0.26076848,  0.23664738,  0.08020603,  0.07001922,  0.1134371 ,\n",
    "         0.23892179],\n",
    "       [ 0.11943333,  0.29198961,  0.02605103,  0.26234032,  0.1351348 ,\n",
    "         0.16505091],\n",
    "       [ 0.09561176,  0.34396535,  0.0643941 ,  0.16240774,  0.24206137,\n",
    "         0.09155967]])\n",
    "```\n",
    "\n",
    "Running it through `sess.run(tf.nn.top_k(tf.constant(a), k=3))` produces:\n",
    "\n",
    "```\n",
    "TopKV2(values=array([[ 0.34763842,  0.24879643,  0.12789202],\n",
    "       [ 0.28086119,  0.27569815,  0.18063401],\n",
    "       [ 0.26076848,  0.23892179,  0.23664738],\n",
    "       [ 0.29198961,  0.26234032,  0.16505091],\n",
    "       [ 0.34396535,  0.24206137,  0.16240774]]), indices=array([[3, 0, 5],\n",
    "       [0, 1, 4],\n",
    "       [0, 5, 1],\n",
    "       [1, 3, 5],\n",
    "       [1, 4, 3]], dtype=int32))\n",
    "```\n",
    "\n",
    "Looking just at the first row we get `[ 0.34763842,  0.24879643,  0.12789202]`, you can confirm these are the 3 largest probabilities in `a`. You'll also notice `[3, 0, 5]` are the corresponding indices."
   ]
  },
  {
   "cell_type": "markdown",
   "metadata": {},
   "source": [
    "**Answer:**\n",
    "\n",
    "According to the question requirement Which predictions is the model certain of? Uncertain?\n",
    "\n",
    "--- as you can see in below graphs, the model was certain of all prediction but 3 and 5. \n",
    "For the third example the actual Y class was 1, whereas it predicted class 39 with 0.7, class 40 with 0.2 and class 18 with 0.1. So the prediction was very off, as it was not even part of the top 3 predictions. It might be related to the fact that the actual image is too zoomed in.\n",
    "\n",
    "For fifth example the actual Y was class 1, whereas it predicted with 0.95 class 2 and only with 0.05 class 1, which would have been the correct prediciton."
   ]
  },
  {
   "cell_type": "markdown",
   "metadata": {},
   "source": [
    "> **Note**: Once you have completed all of the code implementations and successfully answered each question above, you may finalize your work by exporting the iPython Notebook as an HTML document. You can do this by using the menu above and navigating to  \\n\",\n",
    "    \"**File -> Download as -> HTML (.html)**. Include the finished document along with this notebook as your submission."
   ]
  },
  {
   "cell_type": "code",
   "execution_count": 132,
   "metadata": {
    "collapsed": false
   },
   "outputs": [
    {
     "name": "stdout",
     "output_type": "stream",
     "text": [
      "TopKV2(values=array([[  1.00000000e+00,   1.19778929e-14,   8.04961456e-16],\n",
      "       [  1.00000000e+00,   9.19176014e-15,   1.80759041e-16],\n",
      "       [  7.11001635e-01,   2.00518250e-01,   6.09694272e-02],\n",
      "       [  1.00000000e+00,   1.99287838e-13,   1.61422304e-14],\n",
      "       [  9.93951082e-01,   5.17588761e-03,   7.50859384e-04],\n",
      "       [  1.00000000e+00,   1.20530632e-29,   1.44380552e-31]], dtype=float32), indices=array([[14,  5, 29],\n",
      "       [12, 40, 11],\n",
      "       [39, 40, 18],\n",
      "       [14,  5,  3],\n",
      "       [ 2,  1,  5],\n",
      "       [13,  3,  1]], dtype=int32))\n"
     ]
    }
   ],
   "source": [
    "# Add ops to save and restore all the variables.\n",
    "\n",
    "# logits = LeNet(x)\n",
    "# y_pred = tf.nn.softmax(logits)\n",
    "# topFive = tf.nn.top_k(y_pred, k=3, sorted=True, name=None)\n",
    "# labels = np.unique(y_test_own)\n",
    "\n",
    "\n",
    "with tf.Session() as sess:\n",
    "    saver.restore(sess, tf.train.latest_checkpoint('.'))\n",
    "   # sess.run(tf.global_variables_initializer())\n",
    "    topKV2 = sess.run(topFive, feed_dict = {x: X_test_own, y: y_test_own, keep_prob: 1})\n",
    "    print(topKV2)\n"
   ]
  },
  {
   "cell_type": "code",
   "execution_count": 171,
   "metadata": {
    "collapsed": false
   },
   "outputs": [
    {
     "name": "stdout",
     "output_type": "stream",
     "text": [
      "[[  1.00000000e+00   1.19778929e-14   8.04961456e-16]\n",
      " [  1.00000000e+00   9.19176014e-15   1.80759041e-16]\n",
      " [  7.11001635e-01   2.00518250e-01   6.09694272e-02]\n",
      " [  1.00000000e+00   1.99287838e-13   1.61422304e-14]\n",
      " [  9.93951082e-01   5.17588761e-03   7.50859384e-04]\n",
      " [  1.00000000e+00   1.20530632e-29   1.44380552e-31]]\n",
      "[[14  5 29]\n",
      " [12 40 11]\n",
      " [39 40 18]\n",
      " [14  5  3]\n",
      " [ 2  1  5]\n",
      " [13  3  1]]\n"
     ]
    },
    {
     "data": {
      "image/png": "[encoded data removed]",
      "text/plain": [
       "<matplotlib.figure.Figure at 0x7fad8c5f16d8>"
      ]
     },
     "metadata": {},
     "output_type": "display_data"
    },
    {
     "data": {
      "image/png": "[encoded data removed]",
      "text/plain": [
       "<matplotlib.figure.Figure at 0x7fad922bebe0>"
      ]
     },
     "metadata": {},
     "output_type": "display_data"
    },
    {
     "data": {
      "image/png": "[encoded data removed]",
      "text/plain": [
       "<matplotlib.figure.Figure at 0x7fad922ab668>"
      ]
     },
     "metadata": {},
     "output_type": "display_data"
    },
    {
     "data": {
      "image/png": "[encoded data removed]",
      "text/plain": [
       "<matplotlib.figure.Figure at 0x7fad928d0400>"
      ]
     },
     "metadata": {},
     "output_type": "display_data"
    },
    {
     "data": {
      "image/png": "[encoded data removed]",
      "text/plain": [
       "<matplotlib.figure.Figure at 0x7fad927bf240>"
      ]
     },
     "metadata": {},
     "output_type": "display_data"
    },
    {
     "data": {
      "image/png": "[encoded data removed]",
      "text/plain": [
       "<matplotlib.figure.Figure at 0x7fad92bb7f28>"
      ]
     },
     "metadata": {},
     "output_type": "display_data"
    }
   ],
   "source": [
    "# actual y labels: y labels:  [14 12  1 14  1 13]\n",
    "real_y_labels = [14, 12, 1, 14, 1, 13]\n",
    "print(topKV2.values)\n",
    "print(topKV2.indices)\n",
    "\n",
    "\n",
    "for index in range(0, len(real_y_labels)):\n",
    "# for index in range(0, 1):\n",
    "    # objects = ('Python', 'C++', 'Java', 'Perl', 'Scala', 'Lisp')\n",
    "    objects = topKV2.indices[index,:]\n",
    "    y_pos = np.arange(len(objects))\n",
    "    # performance = [10,8,6,4,2,1]\n",
    "    plt.figure(figsize=(5,5))    \n",
    "    performance = topKV2.values[index,:]\n",
    "    plt.bar(y_pos, performance, align='center', alpha=0.5)\n",
    "    plt.xticks(y_pos, objects)\n",
    "    plt.ylabel('Probability')\n",
    "    title = 'Actual Y_Label '+ str(real_y_labels[index])\n",
    "    plt.title(title)\n",
    "    \n"
   ]
  },
  {
   "cell_type": "code",
   "execution_count": null,
   "metadata": {
    "collapsed": true
   },
   "outputs": [],
   "source": []
  }
 ],
 "metadata": {
  "anaconda-cloud": {},
  "kernelspec": {
   "display_name": "Python [default]",
   "language": "python",
   "name": "python3"
  },
  "language_info": {
   "codemirror_mode": {
    "name": "ipython",
    "version": 3
   },
   "file_extension": ".py",
   "mimetype": "text/x-python",
   "name": "python",
   "nbconvert_exporter": "python",
   "pygments_lexer": "ipython3",
   "version": "3.5.2"
  }
 },
 "nbformat": 4,
 "nbformat_minor": 1
}
